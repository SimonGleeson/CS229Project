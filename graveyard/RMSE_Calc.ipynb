{
 "cells": [
  {
   "cell_type": "code",
   "execution_count": 6,
   "metadata": {},
   "outputs": [],
   "source": [
    "import pandas as pd\n",
    "import numpy as np\n",
    "import os\n",
    "\n",
    "path = os.getcwd()"
   ]
  },
  {
   "cell_type": "code",
   "execution_count": 85,
   "metadata": {
    "scrolled": false
   },
   "outputs": [
    {
     "name": "stdout",
     "output_type": "stream",
     "text": [
      "1 5.45439085884\n",
      "2 3.0786034422\n",
      "3 3.43014794883\n",
      "4 4.99949405612\n",
      "5 5.94313927202\n",
      "6 2.92050288417\n",
      "7 3.6218884356\n",
      "8 3.49410494188\n",
      "9 14.0010263114\n",
      "10 4.68479236819\n",
      "11 3.75873349462\n",
      "12 5.1148364132\n",
      "13 2.9702918869\n",
      "14 7.40752306235\n",
      "15 5.18735817957\n",
      "16 6.53390783726\n",
      "17 3.44198700629\n",
      "18 5.55510646975\n",
      "19 6.03775855092\n",
      "20 3.27754499979\n",
      "128672.75681\n"
     ]
    }
   ],
   "source": [
    "running_num = 0 \n",
    "running_denom = 0  \n",
    "zone_21 = np.zeros(1344)\n",
    "\n",
    "for zone in range(1,21) :\n",
    "    zone_data = pd.read_csv(path + '/predicted_results_z'+str(zone)+'.csv')\n",
    "    diffs = zone_data['actual'] - zone_data['predicted_NN']\n",
    "    diffs = np.array(diffs) \n",
    "    \n",
    "    zone_21 +=diffs \n",
    "    \n",
    "    diffs = np.reshape(diffs,(24,int(len(diffs)/24)))\n",
    "    diffs = diffs[:,np.random.choice(56, 14)]\n",
    "    diffs = diffs ** 2\n",
    "    \n",
    "    \n",
    "    running_num +=  sum(sum(diffs))\n",
    "    running_denom += 14*24 \n",
    "    \n",
    "    print(zone,(1000*sum(sum(diffs))/sum(zone_data['actual'] ** 2 ) ))\n",
    "\n",
    "    \n",
    "zone_21 = np.reshape(zone_21,(24,int(len(zone_21)/24)))\n",
    "zone_21 = zone_21[:,np.random.choice(56, 14)]\n",
    "\n",
    "zone_21 = zone_21 ** 2\n",
    "zone_21 = zone_21 * 20\n",
    " \n",
    "running_num += sum(sum(zone_21))\n",
    "running_denom += 14*24*20\n",
    "\n",
    "print((running_num/running_denom) ** 0.5) "
   ]
  },
  {
   "cell_type": "code",
   "execution_count": 67,
   "metadata": {
    "scrolled": false
   },
   "outputs": [
    {
     "data": {
      "text/plain": [
       "array([25, 14, 17, 40, 52, 29, 46, 19, 53, 46, 49,  3, 15, 14])"
      ]
     },
     "execution_count": 67,
     "metadata": {},
     "output_type": "execute_result"
    }
   ],
   "source": [
    "np.random.choice(56, 14)"
   ]
  },
  {
   "cell_type": "code",
   "execution_count": 66,
   "metadata": {},
   "outputs": [
    {
     "data": {
      "text/plain": [
       "13440"
      ]
     },
     "execution_count": 66,
     "metadata": {},
     "output_type": "execute_result"
    }
   ],
   "source": [
    "1*14*24*20 + 20*14*24"
   ]
  },
  {
   "cell_type": "code",
   "execution_count": 56,
   "metadata": {},
   "outputs": [
    {
     "data": {
      "image/png": "[encoded data removed]",
      "text/plain": [
       "<matplotlib.figure.Figure at 0x112803f98>"
      ]
     },
     "metadata": {},
     "output_type": "display_data"
    }
   ],
   "source": [
    "import matplotlib.pyplot as plt\n",
    "plt.plot(zone_21[:,1])\n",
    "plt.show()"
   ]
  },
  {
   "cell_type": "code",
   "execution_count": null,
   "metadata": {
    "collapsed": true
   },
   "outputs": [],
   "source": [
    "zone_21"
   ]
  }
 ],
 "metadata": {
  "kernelspec": {
   "display_name": "Python 3",
   "language": "python",
   "name": "python3"
  },
  "language_info": {
   "codemirror_mode": {
    "name": "ipython",
    "version": 3
   },
   "file_extension": ".py",
   "mimetype": "text/x-python",
   "name": "python",
   "nbconvert_exporter": "python",
   "pygments_lexer": "ipython3",
   "version": "3.6.2"
  }
 },
 "nbformat": 4,
 "nbformat_minor": 2
}
