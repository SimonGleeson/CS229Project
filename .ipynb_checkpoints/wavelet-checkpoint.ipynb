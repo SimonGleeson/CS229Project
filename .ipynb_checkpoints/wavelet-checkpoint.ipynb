{
 "cells": [
  {
   "cell_type": "code",
   "execution_count": 129,
   "metadata": {},
   "outputs": [],
   "source": [
    "###THIS NOTEBOOK SETS \n",
    "\n",
    "import pandas as pd\n",
    "import os\n",
    "import numpy as np\n",
    "from collections import defaultdict\n",
    "import timeit\n",
    "import matplotlib.pyplot as plt\n",
    "\n",
    "from keras.models import Sequential\n",
    "from keras.layers import Dense, Dropout\n",
    "\n",
    "# fix random seed for reproducibility\n",
    "np.random.seed(7)\n",
    "path = os.getcwd()"
   ]
  },
  {
   "cell_type": "code",
   "execution_count": 130,
   "metadata": {},
   "outputs": [],
   "source": [
    "train_data = pd.read_csv(path + '/NN_inputs/similar_days_df_z'+str(1)+'.csv')"
   ]
  },
  {
   "cell_type": "code",
   "execution_count": 131,
   "metadata": {},
   "outputs": [],
   "source": [
    "def get_X(data):\n",
    "    X = np.array(data.drop(['load'],axis = 1)) \n",
    "    return X.reshape((X.shape[0],X.shape[1]))"
   ]
  },
  {
   "cell_type": "code",
   "execution_count": 132,
   "metadata": {},
   "outputs": [],
   "source": [
    "#Implement LSTM\n",
    "def decompose(s):\n",
    "    h = np.array([1 + 3 ** 0.5, 3 + 3 ** 0.5, 3 - 3 ** 0.5, 1 - 3 ** 0.5]) / (8)\n",
    "    g = np.array([h[3], -h[2], h[1], -h[0]])\n",
    "\n",
    "    low_freq = [h[0] * s[2*i] + h[1] * s[2*i+1] + h[2] * s[2*i+2] + h[3] * s[2*i+3] for i in range(int(len(load)/2) - 2)]\n",
    "    high_freq = [g[0] * s[2*i] + g[1] * s[2*i+1] + g[2] * s[2*i+2] + g[3] * s[2*i+3] for i in range(int(len(load)/2) - 2)]\n",
    "\n",
    "    #bounce back\n",
    "    s1 = len(s) - 1\n",
    "    s2 = len(s) - 2\n",
    "    low_freq += [h[0] * s[s2] + h[1] * s[s1] + h[2] * s[s1] + h[3] * s[s2]]\n",
    "    low_freq += [h[0] * s[s1] + h[1] * s[s1] + h[2] * s[s2] + h[3] * s[s2 - 1]]\n",
    "    high_freq += [g[0] * s[s2] + g[1] * s[s1] + g[2] * s[s1] + g[3] * s[s2]]\n",
    "    high_freq += [g[0] * s[s1] + g[1] * s[s1] + g[2] * s[s2] + g[3] * s[s2 - 1]]\n",
    "\n",
    "    #make lists for model\n",
    "    lfinput = []\n",
    "    hfinput = []\n",
    "    for i in range(len(low_freq)):\n",
    "        lfinput += [low_freq[i]]*2\n",
    "    for i in range(len(high_freq) - 2):\n",
    "        hfinput += [high_freq[i], high_freq[i + 2]]\n",
    "    hfinput.append(high_freq[len(high_freq) - 2])\n",
    "    hfinput.append(high_freq[len(high_freq) - 1])\n",
    "    hfinput.append(high_freq[len(high_freq) - 1])\n",
    "    hfinput.append(high_freq[len(high_freq) - 2])\n",
    "    \n",
    "    \n",
    "    Ylf = np.array(lfinput)\n",
    "    Ylf = Ylf.reshape((Ylf.shape[0],1))\n",
    "    Yhf = np.array(hfinput)\n",
    "    Yhf = Yhf.reshape((Yhf.shape[0],1))\n",
    "    \n",
    "    return Ylf, Yhf"
   ]
  },
  {
   "cell_type": "code",
   "execution_count": 133,
   "metadata": {
    "scrolled": true
   },
   "outputs": [],
   "source": [
    "#### CALCULATE WRMSE FOR ALL THE RESULTS FILES \n",
    "def evaluate(includeTotalZone):\n",
    "    \n",
    "    num = 0 \n",
    "    denom = 0  \n",
    "    zone_21 = np.zeros(1344)\n",
    "\n",
    "    for zone in range(1, 2):\n",
    "        zone_data = pd.read_csv(path + '/NN_inputs/predicted_results_z' + str(zone) + '.csv')\n",
    "        diffs = np.array(zone_data['actual'] - zone_data['predicted_NN'])\n",
    "        zone_21 += diffs \n",
    "\n",
    "        diffs = np.reshape(diffs,(24,int(len(diffs)/24)))\n",
    "        diffs = diffs[:,np.random.choice(56, 14)] ** 2\n",
    "        num +=  np.sum(diffs)\n",
    "        denom += 14*24\n",
    "\n",
    "    if includeTotalZone:\n",
    "        zone_21 = np.reshape(zone_21,(24,int(len(zone_21)/24)))\n",
    "        zone_21 = zone_21[:,np.random.choice(56, 14)]\n",
    "\n",
    "        zone_21 = (zone_21 ** 2) * 20\n",
    "\n",
    "        num += np.sum(zone_21)\n",
    "        denom += 14 * 24 * 20\n",
    "\n",
    "    wrmse = (num/denom) ** 0.5\n",
    "    \n",
    "    return wrmse"
   ]
  },
  {
   "cell_type": "code",
   "execution_count": 134,
   "metadata": {},
   "outputs": [],
   "source": [
    "#### these functions create all features needed to train or test a neural net for \n",
    "#### a particular zone. It calls on the find_all_similar_days funtionsDropout(0.5) above\n",
    "\n",
    "def train_wavelet_NN(input_data, zone):\n",
    "    X = {}\n",
    "    Y = {}\n",
    "    Y['lf'], Y['hf'] = decompose(input_data['load'])\n",
    "    X['lf'] = get_X(input_data)\n",
    "    X['hf'] = get_X(input_data.drop(['month_{}'.format(str(m)) for m in range(1, 13)] + \\\n",
    "                                ['year_{}'.format(str(yr)) for yr in range(2004, 2009)], axis = 1))\n",
    "\n",
    "    # create model\n",
    "    model = {}\n",
    "    for freq in ['hf', 'lf']:\n",
    "        model[freq] = Sequential()\n",
    "        model[freq].add(Dense(150, input_shape=(X[freq].shape[1],), activation = 'relu'))\n",
    "        model[freq].add(Dense(300, activation = 'relu'))\n",
    "        model[freq].add(Dense(150, activation = 'relu'))\n",
    "        model[freq].add(Dense(1, activation = 'linear')) \n",
    "    \n",
    "    # Compile model\n",
    "        model[freq].compile(loss='mean_squared_error', optimizer='rmsprop', metrics=['accuracy'])\n",
    "\n",
    "    # Fit the model\n",
    "        model[freq].fit(X[freq], Y[freq], epochs = 20, batch_size=10) \n",
    "    \n",
    "    return (model['lf'], model['hf'])"
   ]
  },
  {
   "cell_type": "code",
   "execution_count": 135,
   "metadata": {},
   "outputs": [],
   "source": [
    "def make_XY_test(input_data) :\n",
    "    Y = np.array(input_data['load'])\n",
    "    Y = Y.reshape((Y.shape[0],1))\n",
    "    Xlf = get_X(input_data)\n",
    "    Xhf = get_X(input_data.drop(['month_{}'.format(str(m)) for m in range(1, 13)] + \\\n",
    "                                ['year_{}'.format(str(yr)) for yr in range(2004, 2009)], axis = 1))\n",
    "    \n",
    "    return (Xlf.reshape((Xlf.shape[0], Xlf.shape[1])), Xhf.reshape((Xhf.shape[0], Xhf.shape[1])), Y)"
   ]
  },
  {
   "cell_type": "code",
   "execution_count": 136,
   "metadata": {},
   "outputs": [
    {
     "name": "stdout",
     "output_type": "stream",
     "text": [
      "Epoch 1/20\n",
      "38070/38070 [==============================] - 17s 436us/step - loss: 154000.0074 - acc: 0.0000e+00\n",
      "Epoch 2/20\n",
      "38070/38070 [==============================] - 16s 415us/step - loss: 132465.9472 - acc: 0.0000e+00\n",
      "Epoch 3/20\n",
      "38070/38070 [==============================] - 16s 412us/step - loss: 132465.8297 - acc: 0.0000e+00\n",
      "Epoch 4/20\n",
      "38070/38070 [==============================] - 16s 427us/step - loss: 132466.3092 - acc: 0.0000e+00\n",
      "Epoch 5/20\n",
      "38070/38070 [==============================] - 16s 416us/step - loss: 132466.6990 - acc: 0.0000e+00\n",
      "Epoch 6/20\n",
      "38070/38070 [==============================] - 16s 428us/step - loss: 132467.3674 - acc: 0.0000e+00\n",
      "Epoch 7/20\n",
      "38070/38070 [==============================] - 19s 499us/step - loss: 132466.8744 - acc: 0.0000e+00\n",
      "Epoch 8/20\n",
      "38070/38070 [==============================] - 16s 410us/step - loss: 132466.8285 - acc: 0.0000e+00\n",
      "Epoch 9/20\n",
      "38070/38070 [==============================] - 16s 409us/step - loss: 132467.1209 - acc: 0.0000e+00\n",
      "Epoch 10/20\n",
      "38070/38070 [==============================] - 15s 386us/step - loss: 132467.0901 - acc: 0.0000e+00\n",
      "Epoch 11/20\n",
      "38070/38070 [==============================] - 17s 448us/step - loss: 132467.0622 - acc: 0.0000e+00\n",
      "Epoch 12/20\n",
      "38070/38070 [==============================] - 16s 430us/step - loss: 132467.1767 - acc: 0.0000e+00\n",
      "Epoch 13/20\n",
      "38070/38070 [==============================] - 15s 393us/step - loss: 132466.9085 - acc: 0.0000e+00\n",
      "Epoch 14/20\n",
      "38070/38070 [==============================] - 16s 417us/step - loss: 132467.6181 - acc: 0.0000e+00\n",
      "Epoch 15/20\n",
      "38070/38070 [==============================] - 16s 430us/step - loss: 132466.7157 - acc: 0.0000e+00\n",
      "Epoch 16/20\n",
      "38070/38070 [==============================] - 18s 478us/step - loss: 132467.3797 - acc: 0.0000e+00\n",
      "Epoch 17/20\n",
      "38070/38070 [==============================] - 15s 401us/step - loss: 132467.2802 - acc: 0.0000e+00\n",
      "Epoch 18/20\n",
      "38070/38070 [==============================] - 14s 377us/step - loss: 132467.0400 - acc: 0.0000e+00\n",
      "Epoch 19/20\n",
      "38070/38070 [==============================] - 14s 372us/step - loss: 132466.8047 - acc: 0.0000e+00\n",
      "Epoch 20/20\n",
      "38070/38070 [==============================] - 14s 368us/step - loss: 132467.4140 - acc: 0.0000e+00\n",
      "Epoch 1/20\n",
      "38070/38070 [==============================] - 18s 470us/step - loss: 6847410.7969 - acc: 0.0000e+00\n",
      "Epoch 2/20\n",
      "38070/38070 [==============================] - 17s 435us/step - loss: 6132833.5278 - acc: 0.0000e+00\n",
      "Epoch 3/20\n",
      "38070/38070 [==============================] - 17s 437us/step - loss: 5971832.5711 - acc: 0.0000e+00\n",
      "Epoch 4/20\n",
      "38070/38070 [==============================] - 16s 432us/step - loss: 5901762.3846 - acc: 0.0000e+00\n",
      "Epoch 5/20\n",
      "38070/38070 [==============================] - 17s 443us/step - loss: 5857692.6154 - acc: 0.0000e+00\n",
      "Epoch 6/20\n",
      "38070/38070 [==============================] - 17s 444us/step - loss: 5806070.1494 - acc: 0.0000e+00\n",
      "Epoch 7/20\n",
      "38070/38070 [==============================] - 15s 404us/step - loss: 5814097.1155 - acc: 0.0000e+00\n",
      "Epoch 8/20\n",
      "38070/38070 [==============================] - 18s 460us/step - loss: 5772305.2710 - acc: 0.0000e+00\n",
      "Epoch 9/20\n",
      "38070/38070 [==============================] - 16s 422us/step - loss: 5752014.1111 - acc: 0.0000e+00\n",
      "Epoch 10/20\n",
      "38070/38070 [==============================] - 14s 378us/step - loss: 5758918.7943 - acc: 0.0000e+00\n",
      "Epoch 11/20\n",
      "38070/38070 [==============================] - 16s 417us/step - loss: 5715563.9199 - acc: 0.0000e+00\n",
      "Epoch 12/20\n",
      "38070/38070 [==============================] - 14s 374us/step - loss: 5729784.5428 - acc: 0.0000e+00\n",
      "Epoch 13/20\n",
      "38070/38070 [==============================] - 13s 351us/step - loss: 5699595.5817 - acc: 0.0000e+00\n",
      "Epoch 14/20\n",
      "38070/38070 [==============================] - 13s 343us/step - loss: 5670516.8194 - acc: 0.0000e+00\n",
      "Epoch 15/20\n",
      "38070/38070 [==============================] - 13s 344us/step - loss: 5667340.4965 - acc: 0.0000e+00\n",
      "Epoch 16/20\n",
      "38070/38070 [==============================] - 13s 343us/step - loss: 5653344.9084 - acc: 0.0000e+00\n",
      "Epoch 17/20\n",
      "38070/38070 [==============================] - 13s 345us/step - loss: 5655569.9586 - acc: 0.0000e+00\n",
      "Epoch 18/20\n",
      "38070/38070 [==============================] - 13s 342us/step - loss: 5634964.1723 - acc: 0.0000e+00\n",
      "Epoch 19/20\n",
      "38070/38070 [==============================] - 13s 344us/step - loss: 5630136.3571 - acc: 0.0000e+00\n",
      "Epoch 20/20\n",
      "38070/38070 [==============================] - 13s 344us/step - loss: 5619736.0087 - acc: 0.0000e+00\n",
      "Performance; 2437.5853308512073\n"
     ]
    }
   ],
   "source": [
    "#Run the model\n",
    "models = defaultdict(dict)\n",
    "for zone in range(1, 2):\n",
    "    train_data = pd.read_csv(path + '/NN_inputs/similar_days_df_z{}.csv'.format(str(zone))) \n",
    "    modellf, modelhf = train_wavelet_NN(train_data, zone)\n",
    "    models[zone]['lf'] = modellf\n",
    "    models[zone]['hf'] = modelhf\n",
    "\n",
    "    test_data = pd.read_csv(path + '/NN_inputs/test_data_z'+str(zone)+'.csv') \n",
    "\n",
    "    Xlf, Xhf, Y = make_XY_test(test_data) \n",
    "\n",
    "    pred = modellf.predict(Xlf) + modelhf.predict(Xhf)  \n",
    "    actual_series = pd.Series(np.reshape(Y,(Y.size,)))\n",
    "    predicted_series = pd.Series(np.reshape(pred,(pred.size,)))\n",
    "    predicted_df = pd.DataFrame({'predicted_NN':predicted_series, 'actual' : actual_series})\n",
    "    predicted_df.index = range(predicted_df.shape[0])  \n",
    "\n",
    "    d = pd.read_csv(path + '/GEFCOM/temp_for_solutions.csv')\n",
    "    d = d[d['zone'] == zone]\n",
    "    d.index = range(d.shape[0]) \n",
    "    df = pd.concat([d[['zone','year','month','day','hour']],predicted_df],axis=1) \n",
    "    df.to_csv(path + '/NN_inputs/predicted_results_z{}.csv'.format(str(zone)))\n",
    "\n",
    "    wrmse = evaluate(False)\n",
    "\n",
    "    print ('Performance; {}'.format(wrmse))"
   ]
  },
  {
   "cell_type": "code",
   "execution_count": 119,
   "metadata": {},
   "outputs": [
    {
     "data": {
      "image/png": "[encoded data removed]",
      "text/plain": [
       "<matplotlib.figure.Figure at 0x7f53d82b68d0>"
      ]
     },
     "metadata": {},
     "output_type": "display_data"
    }
   ],
   "source": [
    "plt.plot(Yhf[:250])\n",
    "plt.plot(Ylf[:250])\n",
    "plt.show()"
   ]
  },
  {
   "cell_type": "code",
   "execution_count": 120,
   "metadata": {},
   "outputs": [
    {
     "data": {
      "image/png": "[encoded data removed]",
      "text/plain": [
       "<matplotlib.figure.Figure at 0x7f53d8364358>"
      ]
     },
     "metadata": {},
     "output_type": "display_data"
    }
   ],
   "source": [
    "plt.plot(train_data['load'][:250])\n",
    "plt.show()"
   ]
  },
  {
   "cell_type": "code",
   "execution_count": 128,
   "metadata": {},
   "outputs": [
    {
     "data": {
      "text/plain": [
       "(array([[ 16417.8356271 ],\n",
       "        [ 16565.24119806],\n",
       "        [ 16557.45715258],\n",
       "        [ 17134.97642434],\n",
       "        [ 17491.55532132],\n",
       "        [ 17606.36891423],\n",
       "        [ 19616.16145021],\n",
       "        [ 18971.82905724],\n",
       "        [ 19101.64941413],\n",
       "        [ 18817.08534953]]), 0    16853\n",
       " 1    16450\n",
       " 2    16517\n",
       " 3    16873\n",
       " 4    17064\n",
       " 5    17727\n",
       " 6    18574\n",
       " 7    19355\n",
       " 8    19534\n",
       " 9    18611\n",
       " Name: load, dtype: int64)"
      ]
     },
     "execution_count": 128,
     "metadata": {},
     "output_type": "execute_result"
    }
   ],
   "source": [
    "ylf, yhf = decompose(train_data['load'])\n",
    "(ylf + yhf)[:10], train_data['load'][:10]"
   ]
  }
 ],
 "metadata": {
  "kernelspec": {
   "display_name": "Python 3",
   "language": "python",
   "name": "python3"
  },
  "language_info": {
   "codemirror_mode": {
    "name": "ipython",
    "version": 3
   },
   "file_extension": ".py",
   "mimetype": "text/x-python",
   "name": "python",
   "nbconvert_exporter": "python",
   "pygments_lexer": "ipython3",
   "version": "3.6.3"
  }
 },
 "nbformat": 4,
 "nbformat_minor": 2
}
