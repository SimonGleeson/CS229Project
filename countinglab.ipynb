{
 "cells": [
  {
   "cell_type": "code",
   "execution_count": 3,
   "metadata": {},
   "outputs": [],
   "source": [
    "###test to see if we can implement basic method by Countinglab\n",
    "\n",
    "import numpy as np\n",
    "import pandas as pd\n",
    "import os\n",
    "import csv\n",
    "from collections import defaultdict\n",
    "import statsmodels.formula.api as sm\n",
    "from datetime import datetime\n",
    "import matplotlib.pyplot as plt\n",
    "\n",
    "path = os.getcwd()"
   ]
  },
  {
   "cell_type": "code",
   "execution_count": 4,
   "metadata": {},
   "outputs": [],
   "source": [
    "#Read in the modified dataframe\n",
    "df = pd.read_csv(path + '/GEFCOM/mod_data.csv')\n",
    "\n",
    "#create a variable for season\n",
    "def season(row):\n",
    "    if row['month'] < 3:\n",
    "        val = 'winter'\n",
    "    elif row['month'] < 6:\n",
    "        val = 'spring'\n",
    "    elif row['month'] < 9:\n",
    "        val = 'summer'\n",
    "    elif row['month'] < 12:\n",
    "        val = 'fall'\n",
    "    else:\n",
    "        val = 'winter'   \n",
    "    return val\n",
    "\n",
    "df['season'] = df.apply(season, axis=1)\n",
    "\n",
    "#create interaction terms between weather and total day\n",
    "for i in range(1, 12):\n",
    "    t2 = 'w{}2'.format(i)\n",
    "    td = 'w{}d'.format(i)\n",
    "    t2d = 'w{}2d'.format(i)\n",
    "    df[t2] = df['w{}'.format(i)]**2\n",
    "    df[td] = df['w{}'.format(i)] * df['totDay']\n",
    "    df[t2d] = df['w{}'.format(i)]**2 * df['totDay']"
   ]
  },
  {
   "cell_type": "code",
   "execution_count": 5,
   "metadata": {},
   "outputs": [],
   "source": [
    "dataframes = defaultdict(dict)\n",
    "###split up into 3840 dataframes\n",
    "#By season\n",
    "for seas, df_season in df.groupby('season'):\n",
    "    #By Weekday\n",
    "    for weekday, df_weekday in  df_season.groupby('weekday'):\n",
    "        dataframes[seas][weekday] = defaultdict(dict)\n",
    "        #by hour\n",
    "        for zone, df_zone in df_weekday.groupby('zone'):\n",
    "            for hour, df_hour in df_zone.groupby('hour'):\n",
    "                dataframes[seas][weekday][zone][hour] = df_hour"
   ]
  },
  {
   "cell_type": "code",
   "execution_count": 6,
   "metadata": {},
   "outputs": [],
   "source": [
    "bestWeather = defaultdict(dict)\n",
    "bestModel = defaultdict(dict)\n",
    "for seas, valSeas in dataframes.items():\n",
    "    for wd, valWd in valSeas.items():\n",
    "        bestWeather[seas][wd] = defaultdict(dict)\n",
    "        bestModel[seas][wd] = defaultdict(dict)\n",
    "        for zone, valZone in valWd.items():\n",
    "            for hr, dataToFit in valZone.items():\n",
    "                for i in range(1, 12):\n",
    "                    t2 = 'w{}2'.format(i)\n",
    "                    td = 'w{}d'.format(i)\n",
    "                    t2d = 'w{}2d'.format(i)\n",
    "                    formula = 'load ~ w{} + w{}2 + w{}d + w{}2d + totDay'.format(i,i,i,i)\n",
    "                    mod = sm.ols(formula, data = dataToFit)\n",
    "                    res = mod.fit()\n",
    "                    if i == 1:\n",
    "                        bestModel[seas][wd][zone][hr] = res\n",
    "                        bestWeather[seas][wd][zone][hr] = i\n",
    "                        mse = res.mse_resid\n",
    "                    elif res.mse_resid < mse:\n",
    "                        bestModel[seas][wd][zone][hr] = res\n",
    "                        bestWeather[seas][wd][zone][hr] = i\n",
    "                        mse = res.mse_resid"
   ]
  },
  {
   "cell_type": "code",
   "execution_count": 40,
   "metadata": {},
   "outputs": [],
   "source": [
    "#read in solutions\n",
    "solutions = pd.read_csv(path + '/GEFCOM/Load_solution.csv')\n",
    "solutions = solutions[:][0:1176] #remove forecast values\n",
    "solutions['season'] = solutions.apply(season, axis=1)"
   ]
  },
  {
   "cell_type": "code",
   "execution_count": 41,
   "metadata": {},
   "outputs": [],
   "source": [
    "#create a dict that stores the times and loads of each zone\n",
    "#Read in the temperatures\n",
    "temps  = {}\n",
    "for i in range(1, 12):\n",
    "    #keys for the temperature\n",
    "    temps['temp_{}'.format(i)] = [] \n",
    "    #keys for the time (datetime objects)\n",
    "    temps['time_{}'.format(i)] = []\n",
    "\n",
    "with open(path + '/GEFCOM/temperature_history.csv', 'rt') as tcsv:\n",
    "    tempreader = csv.reader(tcsv)\n",
    "    for index, row in list(enumerate(tempreader)):\n",
    "        #skip first row\n",
    "        if index == 0:\n",
    "            continue\n",
    "        for i, col in enumerate(row):\n",
    "           #ignore empty entries\n",
    "            if col == '':\n",
    "                continue\n",
    "           #we look at the loads and temperatures which \n",
    "           #start in the 5th column\n",
    "            if i > 3:\n",
    "                hour = i - 4\n",
    "                year = int(row[1])\n",
    "                month = int(row[2])\n",
    "                day = int(row[3])\n",
    "                timeVal = datetime(year, month, day, hour)\n",
    "                temps['time_{}'.format(row[0])].append(timeVal)\n",
    "                temps['temp_{}'.format(row[0])].append(int(col))"
   ]
  },
  {
   "cell_type": "code",
   "execution_count": 42,
   "metadata": {},
   "outputs": [],
   "source": [
    "#Look at the dates in the answer solutions\n",
    "dates = set()\n",
    "seen = {}\n",
    "\n",
    "for i in range(len(solutions['id'])):\n",
    "    year = int(solutions['year'][i])\n",
    "    month = int(solutions['month'][i])\n",
    "    day = int(solutions['day'][i])\n",
    "    if (year, month, day) in seen:\n",
    "        continue\n",
    "    seen[(year, month, day)] = True\n",
    "    for j in range(24):\n",
    "        dates.add((year, month, day, j))"
   ]
  },
  {
   "cell_type": "code",
   "execution_count": 43,
   "metadata": {},
   "outputs": [],
   "source": [
    "tempvals = {}\n",
    "for i in range(len(temps['time_1'])):\n",
    "    if len(dates) == 0:\n",
    "        break\n",
    "    year = temps['time_1'][i].year\n",
    "    if year == 2004 or year == 2007 or year == 2008:\n",
    "        continue\n",
    "    month = temps['time_1'][i].month\n",
    "    day = temps['time_1'][i].day\n",
    "    hour = temps['time_1'][i].hour\n",
    "    val = (year, month, day, hour)\n",
    "    \n",
    "    if val in dates:\n",
    "        for j in range(1, 12):\n",
    "            header = 'temp_{}'.format(j)\n",
    "            tempvals[(year, month, day, hour, j)] = temps[header][i]\n",
    "        dates.remove(val)    "
   ]
  },
  {
   "cell_type": "code",
   "execution_count": 9,
   "metadata": {},
   "outputs": [
    {
     "name": "stdout",
     "output_type": "stream",
     "text": [
      "WMSE is:  92482.3912654\n"
     ]
    }
   ],
   "source": [
    "#evaluate our models\n",
    "sampleSize = int(1176* 0.25)\n",
    "seen = defaultdict(int)\n",
    "limit = 1176*0.25/21\n",
    "counts = [0 for i in range(21)]\n",
    "total = 0\n",
    "sample = np.random.randint(0, 1175, sampleSize)\n",
    "minDate = datetime(2004, 1, 1)\n",
    "num = 0\n",
    "denom = 0\n",
    "while total < sampleSize:\n",
    "    i = np.random.randint(1, 1175)\n",
    "    #pull out relevant indicators\n",
    "    s = solutions['season'][i] #get the season\n",
    "    z = solutions['zone_id'][i] #get the zone number\n",
    "    if counts[z-1] >= limit or seen[i] == 1:\n",
    "        continue\n",
    "    date = datetime(solutions['year'][i], solutions['month'][i], solutions['day'][i])\n",
    "    d = (date - minDate).days #total days\n",
    "    wd = (1 if date.weekday() < 5 else 0)\n",
    "    for j in range(24):\n",
    "        hr = 'h{}'.format(j + 1)\n",
    "        val = solutions[hr][i]\n",
    "        if z == 21:\n",
    "            pred = 0\n",
    "            for k in range(1, 21):\n",
    "                model = bestModel[s][wd][k][j]\n",
    "                wIndex = bestWeather[s][wd][k][j]\n",
    "                T = tempvals[(date.year, date.month, date.day, j, wIndex)]\n",
    "                inpt = [1, T, T**2, T*d, T**2*d, d]\n",
    "                pred += sum(inpt[i]*model.params[i] for i in range(len(inpt)))\n",
    "        else:\n",
    "            model = bestModel[s][wd][z][j]\n",
    "            wIndex = bestWeather[s][wd][z][j]\n",
    "            T = tempvals[(date.year, date.month, date.day, j, wIndex)]\n",
    "            inpt = [1, T, T**2, T*d, T**2*d, d]\n",
    "            pred = sum(inpt[i]*model.params[i] for i in range(len(inpt)))\n",
    "        num += (pred - val)**2 * solutions['weight'][i]\n",
    "        denom += solutions['weight'][i]\n",
    "    total += 1\n",
    "    counts[z - 1] += 1\n",
    "    seen[i] = 1\n",
    "        \n",
    "print('WMSE is: ', (num/denom)**0.5)"
   ]
  },
  {
   "cell_type": "code",
   "execution_count": 86,
   "metadata": {
    "scrolled": true
   },
   "outputs": [],
   "source": [
    "def get_season(m):\n",
    "    if m < 3:\n",
    "        val = 'winter'\n",
    "    elif m < 6:\n",
    "        val = 'spring'\n",
    "    elif m < 9:\n",
    "        val = 'summer'\n",
    "    elif m < 12:\n",
    "        val = 'fall'\n",
    "    else:\n",
    "        val = 'winter'     \n",
    "    return val\n",
    "\n",
    "minDate = datetime(2004, 1, 1)\n",
    "#test data vis, 2005 March 6th\n",
    "def predict(y, m, day, z):\n",
    "    s = get_season(m)\n",
    "    wd = (1 if datetime(y, m, day).weekday() < 5 else 0)\n",
    "    predictions = []\n",
    "    date = datetime(y, m, day)\n",
    "    d = (date - minDate).days\n",
    "    for j in range(24):\n",
    "        model = bestModel[s][wd][z][j]\n",
    "        wIndex = bestWeather[s][wd][z][j]\n",
    "        T = tempvals[(date.year, date.month, date.day, j, wIndex)]\n",
    "        inpt = [1, T, T**2, T*d, T**2*d, d]\n",
    "        predictions.append(sum(inpt[i]*model.params[i] for i in range(len(inpt))))\n",
    "    return predictions\n",
    "\n",
    "obs = []\n",
    "predVal = []\n",
    "for m in range(7):\n",
    "    obs += [solutions['h{}'.format(i)][0 + 21*m] for i in range(1, 25)]\n",
    "    predVal += predict(2005, 3, 6 + m, 1)\n",
    "    x = [i for i in range(24*7)]\n",
    "\n",
    "z1 = pd.read_csv(path + '/GEFCOM/predicted_results_z1.csv')\n",
    "NN = list(z1['predicted_NN'][0:168])\n",
    "obs = list(np.array(obs)/1000)\n",
    "NN = list(np.array(NN)/1000)\n",
    "predVal = list(np.array(predVal)/1000)"
   ]
  },
  {
   "cell_type": "code",
   "execution_count": 88,
   "metadata": {
    "collapsed": true
   },
   "outputs": [],
   "source": []
  },
  {
   "cell_type": "code",
   "execution_count": 121,
   "metadata": {
    "collapsed": true
   },
   "outputs": [
    {
     "data": {
      "text/plain": [
       "<matplotlib.figure.Figure at 0x7f5bce52d160>"
      ]
     },
     "metadata": {},
     "output_type": "display_data"
    },
    {
     "data": {
      "image/png": "[encoded data removed]",
      "text/plain": [
       "<matplotlib.figure.Figure at 0x7f5bce5271d0>"
      ]
     },
     "metadata": {},
     "output_type": "display_data"
    }
   ],
   "source": [
    "size = 15\n",
    "\n",
    "plt.clf()\n",
    "fig, ax = plt.subplots(figsize = (10, 6))\n",
    "thick = 2\n",
    "plt.plot(x, obs, linewidth = thick, c = 'k', label = 'Actual')\n",
    "plt.plot(x, predVal, linewidth=thick, linestyle = '--', c = 'r', label = 'Baseline')\n",
    "plt.plot(x, NN, linewidth=thick, linestyle = '--', c = 'g', label = 'Neural Network')\n",
    "plt.xticks([24 * i for i in range(8)], fontsize = 15)\n",
    "plt.yticks( fontsize = 15)\n",
    "plt.xlabel('hour', fontsize = size)\n",
    "plt.ylabel('Load (MW)', fontsize = size)\n",
    "ax.set_position([0.15, 0.2, 0.75, 0.7])\n",
    "ax.legend(loc='center', bbox_to_anchor=(0.5, -0.2), fancybox=False, shadow = False, ncol = 3, fontsize = 15)\n",
    "plt.grid()\n",
    "#plt.legend()\n",
    "plt.savefig('plots/predictions.png', bbox_inches='tight')\n",
    "plt.show()"
   ]
  },
  {
   "cell_type": "code",
   "execution_count": 78,
   "metadata": {},
   "outputs": [],
   "source": [
    "def predictValue(df):\n",
    "    wd = df['weekday']\n",
    "    s  = df['season']\n",
    "    h  = df['hour']\n",
    "    z  = df['zone']\n",
    "    print (s, wd, z, h)\n",
    "    model = bestModel[s][wd][z][h]\n",
    "    wIndex = bestWeather[s][wd][z][h]\n",
    "    T = df['w{}'.format(wIndex)]\n",
    "    d = df['Unnamed: 0']\n",
    "    inpt = [1, T, T**2, T*d, T**2*d, d]\n",
    "    \n",
    "    return sum(inpt[i] * model.params[i] for i in range(len(inpt)))"
   ]
  },
  {
   "cell_type": "code",
   "execution_count": 48,
   "metadata": {},
   "outputs": [],
   "source": [
    "title = 'final_prediction_par_'\n",
    "for zone in range(1, 2):\n",
    "\n",
    "    input_data = pd.read_csv(path + '/NN_inputs/similar_days_df_z{}.csv'.format(zone))\n",
    "    input_data['month'] = sum(i * input_data['month_{}'.format(i)] \\\n",
    "            for i in range(1, 13))\n",
    "    input_data['hour'] = sum(i * input_data['hour_{}'.format(i)] \\\n",
    "            for i in range(24))\n",
    "    input_data['season'] = input_data.apply(season, axis=1)\n",
    "    input_data['zone'] = zone\n",
    "    \n",
    "    input_data['prediction_param'] = input_data.apply(predictValue, axis=1)\n",
    "    \n",
    "    output = input_data[['zone', 'month', 'hour', 'prediction_param']]\n",
    "\n",
    "    \n",
    "    output.to_csv(path + '/NN_inputs/{}{}'.format(title, str(zone)))"
   ]
  },
  {
   "cell_type": "code",
   "execution_count": 100,
   "metadata": {},
   "outputs": [
    {
     "data": {
      "text/plain": [
       "['id',\n",
       " 'zone_id',\n",
       " 'year',\n",
       " 'month',\n",
       " 'day',\n",
       " 'h1',\n",
       " 'h2',\n",
       " 'h3',\n",
       " 'h4',\n",
       " 'h5',\n",
       " 'h6',\n",
       " 'h7',\n",
       " 'h8',\n",
       " 'h9',\n",
       " 'h10',\n",
       " 'h11',\n",
       " 'h12',\n",
       " 'h13',\n",
       " 'h14',\n",
       " 'h15',\n",
       " 'h16',\n",
       " 'h17',\n",
       " 'h18',\n",
       " 'h19',\n",
       " 'h20',\n",
       " 'h21',\n",
       " 'h22',\n",
       " 'h23',\n",
       " 'h24',\n",
       " 'weight',\n",
       " 'season']"
      ]
     },
     "execution_count": 100,
     "metadata": {},
     "output_type": "execute_result"
    }
   ],
   "source": [
    "list(solutions)"
   ]
  },
  {
   "cell_type": "code",
   "execution_count": 125,
   "metadata": {},
   "outputs": [],
   "source": [
    "sols = pd.read_csv(path + '/GEFCOM/Load_solution.csv')\n",
    "minDate = datetime(2004, 1, 1)\n",
    "maxDate = datetime(2008, 6, 30)\n",
    "f =  open(path + '/NN_inputs/finalized_results.csv', 'wt')\n",
    "writer = csv.writer(f, delimiter = ',')\n",
    "writer.writerow(['zone', 'Year', 'Month', 'Day', 'Hour', 'actual', 'predicted'])\n",
    "for i in range(len(sols['id'])):\n",
    "   \n",
    "    z = sols['zone_id'][i]\n",
    "    y = sols['year'][i]\n",
    "    m = sols['month'][i]\n",
    "    d = sols['day'][i]\n",
    "    if int(z) == 21 or datetime(y, m, d) > maxDate: \n",
    "        continue\n",
    "    pred = predict(y, m, d, z)\n",
    "        \n",
    "    for h in range(1, 25):\n",
    "        actual = sols['h{}'.format(h)][i]\n",
    "        writer.writerow([int(z), y, m, d, h - 1, actual, pred[h - 1]])\n"
   ]
  },
  {
   "cell_type": "code",
   "execution_count": 131,
   "metadata": {},
   "outputs": [],
   "source": [
    "main_data = pd.read_csv(path + '/NN_inputs/finalized_results.csv')\n",
    "outTitle = 'parametric_prediction_z'\n",
    "for zone, df_zone in main_data.groupby('zone'):\n",
    "    df_zone.to_csv(path + '/NN_inputs/{}{}.csv'.format(outTitle, zone))"
   ]
  },
  {
   "cell_type": "code",
   "execution_count": 126,
   "metadata": {},
   "outputs": [],
   "source": [
    "main_data = pd.read_csv(path + '/NN_inputs/finalized_results.csv')"
   ]
  },
  {
   "cell_type": "code",
   "execution_count": 129,
   "metadata": {},
   "outputs": [
    {
     "data": {
      "text/plain": [
       "56.0"
      ]
     },
     "execution_count": 129,
     "metadata": {},
     "output_type": "execute_result"
    }
   ],
   "source": [
    "len(main_data['zone']) / 20 / 24 "
   ]
  }
 ],
 "metadata": {
  "kernelspec": {
   "display_name": "Python 2",
   "language": "python",
   "name": "python2"
  },
  "language_info": {
   "codemirror_mode": {
    "name": "ipython",
    "version": 3
   },
   "file_extension": ".py",
   "mimetype": "text/x-python",
   "name": "python",
   "nbconvert_exporter": "python",
   "pygments_lexer": "ipython3",
   "version": "3.6.3"
  }
 },
 "nbformat": 4,
 "nbformat_minor": 2
}
