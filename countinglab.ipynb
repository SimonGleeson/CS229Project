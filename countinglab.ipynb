{
 "cells": [
  {
   "cell_type": "code",
   "execution_count": 194,
   "metadata": {},
   "outputs": [],
   "source": [
    "###test to see if we can implement basic method by Countinglab\n",
    "\n",
    "import numpy as np\n",
    "import pandas as pd\n",
    "import os\n",
    "import csv\n",
    "from collections import defaultdict\n",
    "import statsmodels.formula.api as sm\n",
    "from datetime import datetime\n",
    "import matplotlib.pyplot as plt\n",
    "\n",
    "path = os.getcwd()"
   ]
  },
  {
   "cell_type": "code",
   "execution_count": 2,
   "metadata": {},
   "outputs": [],
   "source": [
    "df = pd.read_csv(path + '/GEFCOM/mod_data.csv')\n",
    "\n",
    "def season(row):\n",
    "    if row['month'] < 3:\n",
    "        val = 'winter'\n",
    "    elif row['month'] < 6:\n",
    "        val = 'spring'\n",
    "    elif row['month'] < 9:\n",
    "        val = 'summer'\n",
    "    elif row['month'] < 12:\n",
    "        val = 'fall'\n",
    "    else:\n",
    "        val = 'winter'\n",
    "        \n",
    "    return val\n",
    "\n",
    "df['season'] = df.apply(season, axis=1)df\n",
    "\n",
    "#create interaction terms\n",
    "for i in range(1, 12):\n",
    "    t2 = 'w{}2'.format(i)\n",
    "    td = 'w{}d'.format(i)\n",
    "    t2d = 'w{}2d'.format(i)\n",
    "    df[t2] = df['w{}'.format(i)]**2\n",
    "    df[td] = df['w{}'.format(i)] * df['totDay']\n",
    "    df[t2d] = df['w{}'.format(i)]**2 * df['totDay']"
   ]
  },
  {
   "cell_type": "code",
   "execution_count": 3,
   "metadata": {},
   "outputs": [],
   "source": [
    "dataframes = defaultdict(dict)\n",
    "###split up into 3840 dataframes\n",
    "for seas, df_season in df.groupby('season'):\n",
    "    for weekday, df_weekday in  df_season.groupby('weekday'):\n",
    "        dataframes[seas][weekday] = defaultdict(dict)\n",
    "        for zone, df_zone in df_weekday.groupby('zone'):\n",
    "            for hour, df_hour in df_zone.groupby('hour'):\n",
    "                dataframes[seas][weekday][zone][hour] = df_hour"
   ]
  },
  {
   "cell_type": "code",
   "execution_count": 4,
   "metadata": {},
   "outputs": [],
   "source": [
    "bestWeather = defaultdict(dict)\n",
    "bestModel = defaultdict(dict)\n",
    "counter = 0\n",
    "for seas, valSeas in dataframes.items():\n",
    "    for wd, valWd in valSeas.items():\n",
    "        bestWeather[seas][wd] = defaultdict(dict)\n",
    "        bestModel[seas][wd] = defaultdict(dict)\n",
    "        for zone, valZone in valWd.items():\n",
    "            for hr, dataToFit in valZone.items():\n",
    "                counter += 1\n",
    "                if counter % 50 == 0:\n",
    "                    print (counter)\n",
    "                for i in range(1, 12):\n",
    "                    t2 = 'w{}2'.format(i)\n",
    "                    td = 'w{}d'.format(i)\n",
    "                    t2d = 'w{}2d'.format(i)\n",
    "                    formula = 'load ~ w{} + w{}2 + w{}d + w{}2d + totDay'.format(i,i,i,i)\n",
    "                    mod = sm.ols(formula, data = dataToFit)\n",
    "                    res = mod.fit()\n",
    "                    if i == 1:\n",
    "                        bestModel[seas][wd][zone][hr] = res\n",
    "                        bestWeather[seas][wd][zone][hr] = i\n",
    "                        mse = res.mse_resid\n",
    "                    elif res.mse_resid < mse:\n",
    "                        bestModel[seas][wd][zone][hr] = res\n",
    "                        bestWeather[seas][wd][zone][hr] = i\n",
    "                        mse = res.mse_resid"
   ]
  },
  {
   "cell_type": "code",
   "execution_count": 8,
   "metadata": {},
   "outputs": [],
   "source": [
    "#read in solutions\n",
    "solutions = pd.read_csv(path + '/GEFCOM/Load_solution.csv')\n",
    "solutions = solutions[:][0:1176] #remove forecast values\n",
    "solutions['season'] = solutions.apply(season, axis=1)"
   ]
  },
  {
   "cell_type": "code",
   "execution_count": 136,
   "metadata": {},
   "outputs": [],
   "source": [
    "#create a dict that stores the times and loads of each zone\n",
    "#Read in the temperatures\n",
    "temps  = {}\n",
    "for i in range(1, 12):\n",
    "    #keys for the temperature\n",
    "    temps['temp_{}'.format(i)] = [] \n",
    "    #keys for the time (datetime objects)\n",
    "    temps['time_{}'.format(i)] = []\n",
    "\n",
    "with open(path + '/GEFCOM/temperature_history.csv', 'rt') as tcsv:\n",
    "    tempreader = csv.reader(tcsv)\n",
    "    for index, row in list(enumerate(tempreader)):\n",
    "        #skip first row\n",
    "        if index == 0:\n",
    "            continue\n",
    "        for i, col in enumerate(row):\n",
    "           #ignore empty entries\n",
    "            if col == '':\n",
    "                continue\n",
    "           #we look at the loads and temperatures which \n",
    "           #start in the 5th column\n",
    "            if i > 3:\n",
    "                hour = i - 4\n",
    "                year = int(row[1])\n",
    "                month = int(row[2])\n",
    "                day = int(row[3])\n",
    "                timeVal = datetime(year, month, day, hour)\n",
    "                temps['time_{}'.format(row[0])].append(timeVal)\n",
    "                temps['temp_{}'.format(row[0])].append(int(col))"
   ]
  },
  {
   "cell_type": "code",
   "execution_count": 138,
   "metadata": {},
   "outputs": [],
   "source": [
    "#Look at the dates in the answer solutions\n",
    "dates = set()\n",
    "seen = {}\n",
    "\n",
    "for i in range(len(solutions['id'])):\n",
    "    year = int(solutions['year'][i])\n",
    "    month = int(solutions['month'][i])\n",
    "    day = int(solutions['day'][i])\n",
    "    if (year, month, day) in seen:\n",
    "        continue\n",
    "    seen[(year, month, day)] = True\n",
    "    for j in range(24):\n",
    "        dates.add((year, month, day, j))"
   ]
  },
  {
   "cell_type": "code",
   "execution_count": 139,
   "metadata": {},
   "outputs": [],
   "source": [
    "tempvals = {}\n",
    "for i in range(len(temps['time_1'])):\n",
    "    if len(dates) == 0:\n",
    "        break\n",
    "    year = temps['time_1'][i].year\n",
    "    if year == 2004 or year == 2007 or year == 2008:\n",
    "        continue\n",
    "    month = temps['time_1'][i].month\n",
    "    day = temps['time_1'][i].day\n",
    "    hour = temps['time_1'][i].hour\n",
    "    val = (year, month, day, hour)\n",
    "    \n",
    "    if val in dates:\n",
    "        for j in range(1, 12):\n",
    "            header = 'temp_{}'.format(j)\n",
    "            tempvals[(year, month, day, hour, j)] = temps[header][i]\n",
    "        dates.remove(val)    "
   ]
  },
  {
   "cell_type": "code",
   "execution_count": 228,
   "metadata": {},
   "outputs": [
    {
     "name": "stdout",
     "output_type": "stream",
     "text": [
      "WMSE is:  62998.199368\n"
     ]
    }
   ],
   "source": [
    "#evaluate our models\n",
    "sampleSize = int(1176* 0.25)\n",
    "seen = defaultdict(int)\n",
    "limit = 1176*0.25/21\n",
    "counts = [0 for i in range(21)]\n",
    "total = 0\n",
    "sample = np.random.randint(0, 1175, sampleSize)\n",
    "minDate = datetime(2004, 1, 1)\n",
    "num = 0\n",
    "denom = 0\n",
    "while total < sampleSize:\n",
    "    i = np.random.randint(1, 1175)\n",
    "    #pull out relevant indicators\n",
    "    s = solutions['season'][i] #get the season\n",
    "    z = solutions['zone_id'][i] #get the zone number\n",
    "    if counts[z-1] >= limit or seen[i] == 1:\n",
    "        continue\n",
    "    date = datetime(solutions['year'][i], solutions['month'][i], solutions['day'][i])\n",
    "    d = (date - minDate).days #total days\n",
    "    wd = (1 if date.weekday() < 5 else 0)\n",
    "    for j in range(24):\n",
    "        hr = 'h{}'.format(j + 1)\n",
    "        val = solutions[hr][i]\n",
    "        if z == 21:\n",
    "            pred = 0\n",
    "            for k in range(1, 21):\n",
    "                model = bestModel[s][wd][k][j]\n",
    "                wIndex = bestWeather[s][wd][k][j]\n",
    "                T = tempvals[(date.year, date.month, date.day, j, wIndex)]\n",
    "                inpt = [1, T, T**2, T*d, T**2*d, d]\n",
    "                pred += sum(inpt[i]*model.params[i] for i in range(len(inpt)))\n",
    "        else:\n",
    "            model = bestModel[s][wd][z][j]\n",
    "            wIndex = bestWeather[s][wd][z][j]\n",
    "            T = tempvals[(date.year, date.month, date.day, j, wIndex)]\n",
    "            inpt = [1, T, T**2, T*d, T**2*d, d]\n",
    "            pred = sum(inpt[i]*model.params[i] for i in range(len(inpt)))\n",
    "        num += (pred - val)**2 * solutions['weight'][i]\n",
    "        denom += solutions['weight'][i]\n",
    "    total += 1\n",
    "    counts[z - 1] += 1\n",
    "    seen[i] = 1\n",
    "        \n",
    "print('WMSE is: ', (num/denom)**0.5)"
   ]
  },
  {
   "cell_type": "code",
   "execution_count": 215,
   "metadata": {
    "scrolled": true
   },
   "outputs": [],
   "source": [
    "def get_season(m):\n",
    "    if m < 3:\n",
    "        val = 'winter'\n",
    "    elif m < 6:\n",
    "        val = 'spring'\n",
    "    elif m < 9:\n",
    "        val = 'summer'\n",
    "    elif rm < 12:\n",
    "        val = 'fall'\n",
    "    else:\n",
    "        val = 'winter'     \n",
    "    return val\n",
    "\n",
    "#test data vis, 2005 March 6th\n",
    "def predict(y, m, d, z):\n",
    "    s = get_season(m)\n",
    "    wd = (1 if datetime(y, m, d).weekday() < 5 else 0)\n",
    "    predictions = []\n",
    "    for j in range(24):\n",
    "        model = bestModel[s][wd][z][j]\n",
    "        wIndex = bestWeather[s][wd][z][j]\n",
    "        T = tempvals[(date.year, date.month, date.day, j, wIndex)]\n",
    "        inpt = [1, T, T**2, T*d, T**2*d, d]\n",
    "        predictions.append(sum(inpt[i]*model.params[i] for i in range(len(inpt))))\n",
    "    return predictions\n",
    "\n",
    "obs = []\n",
    "predVal = []\n",
    "for m in range(7):\n",
    "    obs += [solutions['h{}'.format(i)][0 + 21*m] for i in range(1, 25)]\n",
    "    predVal += predict(2005, 3, 6 + m, 1)\n",
    "    x = [i for i in range(24*7)]"
   ]
  },
  {
   "cell_type": "code",
   "execution_count": 216,
   "metadata": {},
   "outputs": [
    {
     "data": {
      "image/png": "[encoded data removed]",
      "text/plain": [
       "<matplotlib.figure.Figure at 0x7f14cd24fdd8>"
      ]
     },
     "metadata": {},
     "output_type": "display_data"
    }
   ],
   "source": [
    "plt.clf()\n",
    "plt.plot(x, predVal)\n",
    "plt.plot(x, obs)\n",
    "plt.show()"
   ]
  },
  {
   "cell_type": "code",
   "execution_count": 229,
   "metadata": {},
   "outputs": [
    {
     "data": {
      "text/plain": [
       "[14,\n",
       " 14,\n",
       " 14,\n",
       " 14,\n",
       " 14,\n",
       " 14,\n",
       " 14,\n",
       " 14,\n",
       " 14,\n",
       " 14,\n",
       " 14,\n",
       " 14,\n",
       " 14,\n",
       " 14,\n",
       " 14,\n",
       " 14,\n",
       " 14,\n",
       " 14,\n",
       " 14,\n",
       " 14,\n",
       " 14]"
      ]
     },
     "execution_count": 229,
     "metadata": {},
     "output_type": "execute_result"
    }
   ],
   "source": [
    "counts"
   ]
  }
 ],
 "metadata": {
  "kernelspec": {
   "display_name": "Python 3",
   "language": "python",
   "name": "python3"
  },
  "language_info": {
   "codemirror_mode": {
    "name": "ipython",
    "version": 3
   },
   "file_extension": ".py",
   "mimetype": "text/x-python",
   "name": "python",
   "nbconvert_exporter": "python",
   "pygments_lexer": "ipython3",
   "version": "3.6.3"
  }
 },
 "nbformat": 4,
 "nbformat_minor": 2
}
