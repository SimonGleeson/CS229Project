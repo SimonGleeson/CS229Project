{
 "cells": [
  {
   "cell_type": "markdown",
   "metadata": {},
   "source": [
    "## Testing different ensembling combinations"
   ]
  },
  {
   "cell_type": "code",
   "execution_count": 2,
   "metadata": {},
   "outputs": [
    {
     "name": "stderr",
     "output_type": "stream",
     "text": [
      "Using TensorFlow backend.\n",
      "/usr/lib/python3.6/importlib/_bootstrap.py:219: RuntimeWarning: compiletime version 3.5 of module 'tensorflow.python.framework.fast_tensor_util' does not match runtime version 3.6\n",
      "  return f(*args, **kwds)\n"
     ]
    }
   ],
   "source": [
    "import pandas as pd\n",
    "import os\n",
    "import numpy as np\n",
    "from datetime import datetime\n",
    "import timeit\n",
    "import matplotlib.pyplot as plt\n",
    "\n",
    "from sklearn import linear_model, preprocessing\n",
    "from sklearn.cluster import KMeans\n",
    "\n",
    "from keras.models import Sequential\n",
    "from keras.layers import Dense, Dropout\n",
    "# fix random seed for reproducibility\n",
    "np.random.seed(7)\n",
    "path = os.getcwd()"
   ]
  },
  {
   "cell_type": "code",
   "execution_count": 77,
   "metadata": {},
   "outputs": [
    {
     "name": "stderr",
     "output_type": "stream",
     "text": [
      "/home/simon/Documents/CS229/Project/Code/loadProject/lib/python3.6/site-packages/ipykernel_launcher.py:26: RuntimeWarning: invalid value encountered in true_divide\n"
     ]
    }
   ],
   "source": [
    "#### CALCULATE WRMSE FOR ALL THE RESULTS FILES \n",
    "#def evaluate(includeTotalZone):\n",
    "indices = []\n",
    "for i in range(10):\n",
    "    for j in range(10):\n",
    "        for k in range(10):\n",
    "            indices.append((0.1*i, 0.1*j, 0.1*k))\n",
    "            \n",
    "for sample in indices:   \n",
    "    num = 0 \n",
    "    denom = 0  \n",
    "    zone_21 = np.zeros(1344)[:(3*168)]\n",
    "\n",
    "    for zone in range(1, 21):\n",
    "        base_data = pd.read_csv(path + '/NN_inputs/Neural_results_z{}' + str(zone) + '.csv')\n",
    "        wave_data = pd.read_csv(path + '/NN_inputs/wavelet_prediction_z{}.csv'.format(str(zone)))\n",
    "        par_data = pd.read_csv(path + '/NN_inputs/parametric_prediction_z{}.csv'.format(str(zone)))\n",
    "        \n",
    "        actual = np.array(base_data['actual'])[:(3*168)]\n",
    "        neural = np.array(base_data['predicted_NN'])[:(3*168)]\n",
    "        parametric = np.array(par_data['predicted'])[:(3*168)]\n",
    "        wavelet = np.array(wave_data['predicted_NN'])[:(3*168)]\n",
    "        \n",
    "        #choose random numbers\n",
    "        random = np.array([sample[0], sample[1], sample[2]])\n",
    "        random /= np.sum(random)\n",
    "        \n",
    "        final = random[0] * neural + random[1] * parametric + random[2] * wavelet\n",
    "        \n",
    "        diffs = actual - final\n",
    "        zone_21 += diffs \n",
    "\n",
    "        diffs = np.reshape(diffs,(24,int(len(diffs)/24)))\n",
    "        diffs = diffs[:,np.random.choice(21, 14)] ** 2\n",
    "        num +=  np.sum(diffs)\n",
    "        denom += 14*24\n",
    "\n",
    "        #print(zone, 1000 * np.sum(diffs) / sum(zone_data['actual'] ** 2))\n",
    "\n",
    "    if True:\n",
    "        zone_21 = np.reshape(zone_21,(24,int(len(zone_21)/24)))\n",
    "        zone_21 = zone_21[:,np.random.choice(21, 14)]\n",
    "\n",
    "        zone_21 = (zone_21 ** 2) * 20\n",
    "\n",
    "        num += np.sum(zone_21)\n",
    "        denom += 14 * 24 * 20\n",
    "\n",
    "    wrmse = (num/denom) ** 0.5\n",
    "    \n",
    "    if sample == 0:\n",
    "        best_wrmse = wrmse\n",
    "        params = random\n",
    "    elif wrmse < best_wrmse:\n",
    "        best_wrmse = wrmse\n",
    "        params = random\n",
    "            \n",
    "    \n",
    "   # return wrmse"
   ]
  },
  {
   "cell_type": "code",
   "execution_count": 76,
   "metadata": {},
   "outputs": [
    {
     "data": {
      "text/plain": [
       "(107714.70661380352, array([ 0.23884639,  0.12402572,  0.63712789]))"
      ]
     },
     "execution_count": 76,
     "metadata": {},
     "output_type": "execute_result"
    }
   ],
   "source": [
    "best_wrmse, params"
   ]
  }
 ],
 "metadata": {
  "kernelspec": {
   "display_name": "Python 3",
   "language": "python",
   "name": "python3"
  },
  "language_info": {
   "codemirror_mode": {
    "name": "ipython",
    "version": 3
   },
   "file_extension": ".py",
   "mimetype": "text/x-python",
   "name": "python",
   "nbconvert_exporter": "python",
   "pygments_lexer": "ipython3",
   "version": "3.6.3"
  }
 },
 "nbformat": 4,
 "nbformat_minor": 2
}
