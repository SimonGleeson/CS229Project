{
 "cells": [
  {
   "cell_type": "markdown",
   "metadata": {},
   "source": [
    "## Testing different ensembling combinations"
   ]
  },
  {
   "cell_type": "code",
   "execution_count": 14,
   "metadata": {},
   "outputs": [],
   "source": [
    "import pandas as pd\n",
    "import os\n",
    "import numpy as np\n",
    "from datetime import datetime\n",
    "import timeit\n",
    "import matplotlib.pyplot as plt\n",
    "from random import shuffle\n",
    "\n",
    "from sklearn import linear_model, preprocessing\n",
    "from sklearn.cluster import KMeans\n",
    "from collections import defaultdict\n",
    "\n",
    "from keras.models import Sequential\n",
    "from keras.layers import Dense, Dropout\n",
    "# fix random seed for reproducibility\n",
    "np.random.seed(7)\n",
    "path = os.getcwd()"
   ]
  },
  {
   "cell_type": "code",
   "execution_count": 71,
   "metadata": {},
   "outputs": [
    {
     "name": "stdout",
     "output_type": "stream",
     "text": [
      "119132.778087\n",
      "119132.778087 [1 0 0]\n",
      "81501.9217445\n",
      "81501.9217445 [0 1 0]\n",
      "123749.406788\n"
     ]
    }
   ],
   "source": [
    "#### CALCULATE WRMSE FOR ALL THE RESULTS FILES \n",
    "#def evaluate(includeTotalZone):\n",
    "\n",
    "indices = []\n",
    "for i in range(10):\n",
    "    for j in range(10):\n",
    "        for k in range(10):\n",
    "            indices.append((0.1*i, 0.1*j, 0.1*k))\n",
    "\n",
    "indices = [(1, 0, 0), (0, 1, 0), (0, 0, 1)]\n",
    "\n",
    "best_wrmse = 10**99\n",
    "for sample in indices:   \n",
    "    num = 0 \n",
    "    denom = 0  \n",
    "    zone_21 = np.zeros(1344)\n",
    "\n",
    "    for zone in range(1, 21):\n",
    "        base_data = pd.read_csv(path + '/NN_inputs/Neural_results_z{}' + str(zone) + '.csv')\n",
    "        wave_data = pd.read_csv(path + '/NN_inputs/wavelet_prediction_z{}.csv'.format(str(zone)))\n",
    "        par_data = pd.read_csv(path + '/NN_inputs/parametric_prediction_z{}.csv'.format(str(zone)))\n",
    "        \n",
    "        actual = np.array(base_data['actual'])\n",
    "        neural = np.array(base_data['predicted_NN'])\n",
    "        parametric = np.array(par_data['predicted'])\n",
    "        wavelet = np.array(wave_data['predicted_NN'])\n",
    "        \n",
    "        #choose random numbers\n",
    "        \n",
    "        random = np.array(sample)\n",
    "        '''\n",
    "        if np.sum(random) == 0:\n",
    "            random = [0.333, 0.333,0.333]\n",
    "        else:\n",
    "            random /= np.sum(random)\n",
    "        '''\n",
    "    \n",
    "        final = random[0] * neural + random[1] * parametric + random[2] * wavelet\n",
    "        \n",
    "        diffs = actual - final\n",
    "        zone_21 += diffs \n",
    "\n",
    "        diffs = np.reshape(diffs,(24,int(len(diffs)/24)))\n",
    "        diffs = diffs[:,np.random.choice(56, 14)] ** 2\n",
    "        num +=  np.sum(diffs)\n",
    "        denom += diffs.shape[0] * diffs.shape[1]\n",
    "\n",
    "        #print(zone, 1000 * np.sum(diffs) / sum(zone_data['actual'] ** 2))\n",
    "\n",
    "    if True:\n",
    "        zone_21 = np.reshape(zone_21,(24,int(len(zone_21)/24)))\n",
    "        zone_21 = zone_21[:,np.random.choice(56, 14)]\n",
    "        \n",
    "        zone_21 = (zone_21 ** 2) * 20\n",
    "\n",
    "        num += np.sum(zone_21)\n",
    "        denom += 14 * 24 * 20\n",
    "\n",
    "    wrmse = (num/denom) ** 0.5\n",
    "    print (wrmse)\n",
    "    #print (wrmse, best_wrmse, random), 'not in'\n",
    "    if wrmse < best_wrmse:\n",
    "        print (wrmse, random)\n",
    "        best_wrmse = wrmse\n",
    "        params = random\n",
    "    \n",
    "            \n",
    "    \n",
    "    #print (wrmse)"
   ]
  },
  {
   "cell_type": "code",
   "execution_count": 67,
   "metadata": {},
   "outputs": [
    {
     "data": {
      "text/plain": [
       "(76639.896427143118, array([ 0.11111111,  0.77777778,  0.11111111]))"
      ]
     },
     "execution_count": 67,
     "metadata": {},
     "output_type": "execute_result"
    }
   ],
   "source": [
    "best_wrmse, params"
   ]
  },
  {
   "cell_type": "code",
   "execution_count": 85,
   "metadata": {},
   "outputs": [
    {
     "name": "stdout",
     "output_type": "stream",
     "text": [
      "1344 1288 1344\n",
      "1344 1288 1344\n",
      "1344 1288 1344\n",
      "1344 1288 1344\n",
      "1344 1288 1344\n",
      "1344 1288 1344\n",
      "1344 1288 1344\n",
      "1344 1288 1344\n",
      "1344 1288 1344\n",
      "1344 1288 1344\n",
      "1344 1288 1344\n",
      "1344 1288 1344\n",
      "1344 1272 1344\n",
      "1344 1265 1344\n",
      "1344 1265 1344\n",
      "1344 1265 1344\n",
      "1344 1265 1344\n",
      "1344 1265 1344\n",
      "1344 1265 1344\n",
      "1344 1265 1344\n"
     ]
    }
   ],
   "source": [
    "for zone in range(1, 21):\n",
    "        base_data = pd.read_csv(path + '/NN_inputs/Neural_results_z{}' + str(zone) + '.csv')\n",
    "        wave_data = pd.read_csv(path + '/NN_inputs/wavelet_prediction_z{}.csv'.format(str(zone)))\n",
    "        par_data = pd.read_csv(path + '/NN_inputs/parametric_prediction_z{}.csv'.format(str(zone)))\n",
    "        \n",
    "        print (len(base_data['zone']), len(par_data['Zone']), len(wave_data['zone']))"
   ]
  },
  {
   "cell_type": "code",
   "execution_count": 32,
   "metadata": {},
   "outputs": [],
   "source": [
    "zonemse = defaultdict(dict)\n",
    "\n",
    "for arch in ['p', 'n', 'w']:\n",
    "    num = 0 \n",
    "    denom = 0  \n",
    "    for zone in range(1, 21):\n",
    "        num = 0 \n",
    "        denom = 0\n",
    "        base_data = pd.read_csv(path + '/NN_inputs/Neural_results_z{}' + str(zone) + '.csv')\n",
    "        wave_data = pd.read_csv(path + '/NN_inputs/wavelet_prediction_z{}.csv'.format(str(zone)))\n",
    "        par_data = pd.read_csv(path + '/NN_inputs/parametric_prediction_z{}.csv'.format(str(zone)))\n",
    "\n",
    "        actual = np.array(base_data['actual'])[:(3*168)]\n",
    "        neural = np.array(base_data['predicted_NN'])[:(3*168)]\n",
    "        parametric = np.array(par_data['predicted'])[:(3*168)]\n",
    "        wavelet = np.array(wave_data['predicted_NN'])[:(3*168)]\n",
    "\n",
    "        #choose random numbers\n",
    "        if arch == 'p':\n",
    "            final = parametric\n",
    "        elif arch == 'n':\n",
    "            final = neural\n",
    "        elif arch == 'w':\n",
    "            final = wavelet\n",
    "        else:\n",
    "            print ('problem')\n",
    "\n",
    "        diffs = actual - final\n",
    "\n",
    "        diffs = np.reshape(diffs,(24,int(len(diffs)/24)))\n",
    "        diffs = diffs[:,np.random.choice(21, 14)] ** 2\n",
    "        num +=  np.sum(diffs)\n",
    "        denom += 14*24\n",
    "\n",
    "        #print(zone, 1000 * np.sum(diffs) / sum(zone_data['actual'] ** 2))\n",
    "\n",
    "\n",
    "        wrmse = (num/denom) ** 0.5\n",
    "        wrmse /= (np.sum(final) / len(final))\n",
    "        \n",
    "        zonemse[arch][zone] = wrmse"
   ]
  },
  {
   "cell_type": "code",
   "execution_count": 222,
   "metadata": {},
   "outputs": [
    {
     "data": {
      "image/png": "[encoded data removed]",
      "text/plain": [
       "<matplotlib.figure.Figure at 0x7fa5f1334198>"
      ]
     },
     "metadata": {},
     "output_type": "display_data"
    }
   ],
   "source": [
    "ind = 0\n",
    "color = {}\n",
    "color['p'] = 'mediumseagreen'\n",
    "color['n'] = 'dodgerblue'\n",
    "color['w'] = 'orangered'\n",
    "label = {}\n",
    "label['p'] = 'Parametric'\n",
    "label['n'] = 'Neural Network'\n",
    "label['w'] = 'Wavelet'\n",
    "\n",
    "plt.clf()\n",
    "ax = plt.subplot(111)\n",
    "for zone in range(9, 13):\n",
    "    for model in ['p', 'w', 'n']:\n",
    "        if zone == 9:\n",
    "            lbl = label[model]\n",
    "        else:\n",
    "            lbl = None\n",
    "        ax.bar(ind, zonemse[model][zone], 1, color = color[model], label = lbl)\n",
    "        ind += 1\n",
    "    ind += 1\n",
    "plt.xticks((1, 5,  9, 13), ('Zone 9', 'Zone 10', 'Zone 11', 'Zone 12'))\n",
    "plt.ylabel('Normalized WRMSE')\n",
    "ax.spines['right'].set_visible(False)\n",
    "ax.spines['top'].set_visible(False)\n",
    "plt.legend()\n",
    "plt.savefig(path + '/plots/wrmsebar.png', bbox_inches='tight', transparent=True)\n",
    "plt.show()"
   ]
  },
  {
   "cell_type": "code",
   "execution_count": 160,
   "metadata": {},
   "outputs": [
    {
     "data": {
      "image/png": "[encoded data removed]",
      "text/plain": [
       "<matplotlib.figure.Figure at 0x7fa5f1765b38>"
      ]
     },
     "metadata": {},
     "output_type": "display_data"
    }
   ],
   "source": [
    "#plt.plot(parametric[:168], label = 'p')\n",
    "plt.plot(wavelet[:168], label = 'w')\n",
    "plt.plot(neural[:168], label = 'n')\n",
    "#plt.plot(actual[:168], label = 'a')\n",
    "plt.legend()\n",
    "plt.show()\n"
   ]
  },
  {
   "cell_type": "code",
   "execution_count": 68,
   "metadata": {},
   "outputs": [
    {
     "name": "stdout",
     "output_type": "stream",
     "text": [
      "1344\n",
      "123245.608313\n",
      "1344\n",
      "84308.5626712\n",
      "1344\n",
      "120097.133422\n",
      "1344\n",
      "83673.7394543\n"
     ]
    }
   ],
   "source": [
    "#### CALCULATE WRMSE FOR ALL THE RESULTS FILES \n",
    "#def evaluate(includeTotalZone):\n",
    "\n",
    "indices = [(1, 0, 0), (0, 1, 0), (0, 0, 1), (0.11111111,  0.77777778,  0.11111111)]\n",
    "            \n",
    "for sample in indices:   \n",
    "    num = 0 \n",
    "    denom = 0  \n",
    "    zone_21 = np.zeros(1344)\n",
    "\n",
    "    for zone in range(1, 21):\n",
    "        base_data = pd.read_csv(path + '/NN_inputs/Neural_results_z{}' + str(zone) + '.csv')\n",
    "        wave_data = pd.read_csv(path + '/NN_inputs/wavelet_prediction_z{}.csv'.format(str(zone)))\n",
    "        par_data = pd.read_csv(path + '/NN_inputs/parametric_prediction_z{}.csv'.format(str(zone)))\n",
    "        \n",
    "        actual = np.array(base_data['actual'])\n",
    "        neural = np.array(base_data['predicted_NN'])\n",
    "        parametric = np.array(par_data['predicted'])\n",
    "        wavelet = np.array(wave_data['predicted_NN'])\n",
    "        \n",
    "        #choose random numbers\n",
    "        \n",
    "        random = np.array(sample)\n",
    "        \n",
    "        final = random[0] * neural + random[1] * parametric + random[2] * wavelet\n",
    "        \n",
    "        diffs = actual - final\n",
    "        x = 1344\n",
    "        zone_21 += diffs \n",
    "        denom += x\n",
    "       \n",
    "\n",
    "        diffs = np.reshape(diffs,(24,int(len(diffs)/24))) ** 2\n",
    "        num +=  np.sum(diffs)\n",
    "\n",
    "    if True:\n",
    "        zone_21 = np.reshape(zone_21,(24,int(len(zone_21)/24)))\n",
    "\n",
    "        zone_21 = (zone_21 ** 2) * 20\n",
    "        print (x)\n",
    "        num += np.sum(zone_21)\n",
    "        denom += x * 20\n",
    "\n",
    "    wrmse = (num/denom) ** 0.5         \n",
    "    \n",
    "    print (wrmse)"
   ]
  }
 ],
 "metadata": {
  "kernelspec": {
   "display_name": "Python 3",
   "language": "python",
   "name": "python3"
  },
  "language_info": {
   "codemirror_mode": {
    "name": "ipython",
    "version": 3
   },
   "file_extension": ".py",
   "mimetype": "text/x-python",
   "name": "python",
   "nbconvert_exporter": "python",
   "pygments_lexer": "ipython3",
   "version": "3.6.3"
  }
 },
 "nbformat": 4,
 "nbformat_minor": 2
}
